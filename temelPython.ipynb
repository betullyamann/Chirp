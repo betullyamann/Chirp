{
  "nbformat": 4,
  "nbformat_minor": 0,
  "metadata": {
    "colab": {
      "name": "temelPython.ipynb",
      "provenance": [],
      "collapsed_sections": [],
      "authorship_tag": "ABX9TyMox2cdWNtYUw7ybXyimMg+",
      "include_colab_link": true
    },
    "kernelspec": {
      "name": "python3",
      "display_name": "Python 3"
    }
  },
  "cells": [
    {
      "cell_type": "markdown",
      "metadata": {
        "id": "view-in-github",
        "colab_type": "text"
      },
      "source": [
        "<a href=\"https://colab.research.google.com/github/betullyamann/Chirp/blob/master/temelPython.ipynb\" target=\"_parent\"><img src=\"https://colab.research.google.com/assets/colab-badge.svg\" alt=\"Open In Colab\"/></a>"
      ]
    },
    {
      "cell_type": "markdown",
      "metadata": {
        "id": "mquQIuA96WO_"
      },
      "source": [
        "**!** Notlar https://www.youtube.com/watch?v=cVkV9xd4mHg videosu takip edilerek alinmistir."
      ]
    },
    {
      "cell_type": "markdown",
      "metadata": {
        "id": "Xmfsbs7PR8Fa"
      },
      "source": [
        "\r\n",
        "\r\n",
        "---\r\n",
        "\r\n",
        "\r\n",
        "**COMMENT**"
      ]
    },
    {
      "cell_type": "code",
      "metadata": {
        "id": "nkEOi-upRp58"
      },
      "source": [
        "# comment\r\n",
        "''' multiple lines comment '''"
      ],
      "execution_count": null,
      "outputs": []
    },
    {
      "cell_type": "markdown",
      "metadata": {
        "id": "K8F_KSJeSAqT"
      },
      "source": [
        "\r\n",
        "\r\n",
        "---\r\n",
        "\r\n",
        "\r\n",
        "**EKRANA YAZDIRMA**"
      ]
    },
    {
      "cell_type": "code",
      "metadata": {
        "id": "FkXPIyCxRwj8"
      },
      "source": [
        "print( '' )\r\n",
        "print( \"\" )\r\n",
        "print( \"\"\" \"\"\" )"
      ],
      "execution_count": null,
      "outputs": []
    },
    {
      "cell_type": "markdown",
      "metadata": {
        "id": "n-FkVU2eSFPL"
      },
      "source": [
        "\r\n",
        "\r\n",
        "---\r\n",
        "\r\n",
        "\r\n",
        "**DEĞİŞKENLER**"
      ]
    },
    {
      "cell_type": "code",
      "metadata": {
        "colab": {
          "base_uri": "https://localhost:8080/"
        },
        "id": "D0AlWVk_SH6T",
        "outputId": "9739dffe-4739-4122-f8e2-b4844f10e2b9"
      },
      "source": [
        "# no type checking\r\n",
        "sum = 10\r\n",
        "print( sum, sum+1)"
      ],
      "execution_count": null,
      "outputs": [
        {
          "output_type": "stream",
          "text": [
            "10 11\n"
          ],
          "name": "stdout"
        }
      ]
    },
    {
      "cell_type": "code",
      "metadata": {
        "colab": {
          "base_uri": "https://localhost:8080/",
          "height": 197
        },
        "id": "vzzw6IF0SsxL",
        "outputId": "1535df17-1b85-40eb-ef1f-35a3c42a94ca"
      },
      "source": [
        "x = y = 2\r\n",
        "x,y,z = 1,1,1 \r\n",
        "\r\n",
        "x,y = 1 # ERROR !"
      ],
      "execution_count": null,
      "outputs": [
        {
          "output_type": "error",
          "ename": "TypeError",
          "evalue": "ignored",
          "traceback": [
            "\u001b[0;31m---------------------------------------------------------------------------\u001b[0m",
            "\u001b[0;31mTypeError\u001b[0m                                 Traceback (most recent call last)",
            "\u001b[0;32m<ipython-input-5-1c1da9b736da>\u001b[0m in \u001b[0;36m<module>\u001b[0;34m()\u001b[0m\n\u001b[1;32m      2\u001b[0m \u001b[0mx\u001b[0m\u001b[0;34m,\u001b[0m\u001b[0my\u001b[0m\u001b[0;34m,\u001b[0m\u001b[0mz\u001b[0m \u001b[0;34m=\u001b[0m \u001b[0;36m1\u001b[0m\u001b[0;34m,\u001b[0m\u001b[0;36m1\u001b[0m\u001b[0;34m,\u001b[0m\u001b[0;36m1\u001b[0m\u001b[0;34m\u001b[0m\u001b[0;34m\u001b[0m\u001b[0m\n\u001b[1;32m      3\u001b[0m \u001b[0;34m\u001b[0m\u001b[0m\n\u001b[0;32m----> 4\u001b[0;31m \u001b[0mx\u001b[0m\u001b[0;34m,\u001b[0m\u001b[0my\u001b[0m \u001b[0;34m=\u001b[0m \u001b[0;36m1\u001b[0m \u001b[0;31m# ERROR !\u001b[0m\u001b[0;34m\u001b[0m\u001b[0;34m\u001b[0m\u001b[0m\n\u001b[0m",
            "\u001b[0;31mTypeError\u001b[0m: 'int' object is not iterable"
          ]
        }
      ]
    },
    {
      "cell_type": "markdown",
      "metadata": {
        "id": "nJc08WUgTCwk"
      },
      "source": [
        "\r\n",
        "\r\n",
        "---\r\n",
        "\r\n",
        "\r\n",
        "**TEMEL VERİ TURLERI**\r\n",
        "\r\n",
        "*   int, float\r\n",
        "*   string, char\r\n",
        "*   true, false\r\n",
        "\r\n",
        "\r\n",
        "\r\n",
        "\r\n"
      ]
    },
    {
      "cell_type": "code",
      "metadata": {
        "colab": {
          "base_uri": "https://localhost:8080/"
        },
        "id": "udeiNGg7THUs",
        "outputId": "c4a9fa8b-36d6-411a-e1cf-a8cf67f71189"
      },
      "source": [
        "num = 5\r\n",
        "print( type( num ) ); # find variable type"
      ],
      "execution_count": null,
      "outputs": [
        {
          "output_type": "stream",
          "text": [
            "<class 'int'>\n"
          ],
          "name": "stdout"
        }
      ]
    },
    {
      "cell_type": "code",
      "metadata": {
        "colab": {
          "base_uri": "https://localhost:8080/",
          "height": 180
        },
        "id": "PxrJXv-4UQ1M",
        "outputId": "3a77081f-3586-4744-9c26-5f0c0def3b1f"
      },
      "source": [
        "del num # DELETE the variable\r\n",
        "print( num )"
      ],
      "execution_count": null,
      "outputs": [
        {
          "output_type": "error",
          "ename": "NameError",
          "evalue": "ignored",
          "traceback": [
            "\u001b[0;31m---------------------------------------------------------------------------\u001b[0m",
            "\u001b[0;31mNameError\u001b[0m                                 Traceback (most recent call last)",
            "\u001b[0;32m<ipython-input-7-ab6af3a6bfc0>\u001b[0m in \u001b[0;36m<module>\u001b[0;34m()\u001b[0m\n\u001b[1;32m      1\u001b[0m \u001b[0;32mdel\u001b[0m \u001b[0mnum\u001b[0m\u001b[0;34m\u001b[0m\u001b[0;34m\u001b[0m\u001b[0m\n\u001b[0;32m----> 2\u001b[0;31m \u001b[0mprint\u001b[0m\u001b[0;34m(\u001b[0m \u001b[0mnum\u001b[0m \u001b[0;34m)\u001b[0m\u001b[0;34m\u001b[0m\u001b[0;34m\u001b[0m\u001b[0m\n\u001b[0m",
            "\u001b[0;31mNameError\u001b[0m: name 'num' is not defined"
          ]
        }
      ]
    },
    {
      "cell_type": "markdown",
      "metadata": {
        "id": "ZA0e4X0MVXD0"
      },
      "source": [
        "\r\n",
        "\r\n",
        "---\r\n",
        "\r\n",
        "\r\n",
        "**CASTING**"
      ]
    },
    {
      "cell_type": "code",
      "metadata": {
        "colab": {
          "base_uri": "https://localhost:8080/"
        },
        "id": "AOgvZ3ZmUf1z",
        "outputId": "d096a483-a6b5-4d93-e4c2-897aea6d96c9"
      },
      "source": [
        "num = 10.1\r\n",
        "print( num, type( num ) )\r\n",
        "\r\n",
        "num = int( num ) # CASTING\r\n",
        "print( num, type( num ) )"
      ],
      "execution_count": null,
      "outputs": [
        {
          "output_type": "stream",
          "text": [
            "10.1 <class 'float'>\n",
            "10 <class 'int'>\n"
          ],
          "name": "stdout"
        }
      ]
    },
    {
      "cell_type": "code",
      "metadata": {
        "colab": {
          "base_uri": "https://localhost:8080/"
        },
        "id": "M_-4Vw1tU3oM",
        "outputId": "d316bd57-0d4c-4a90-ae66-9d43a4b11ef7"
      },
      "source": [
        "num = 3\r\n",
        "print( float(num), num )"
      ],
      "execution_count": null,
      "outputs": [
        {
          "output_type": "stream",
          "text": [
            "3.0 3\n"
          ],
          "name": "stdout"
        }
      ]
    },
    {
      "cell_type": "markdown",
      "metadata": {
        "id": "XIqhEgd5Vcuc"
      },
      "source": [
        "\r\n",
        "\r\n",
        "---\r\n",
        "\r\n",
        "\r\n",
        "**ARITMETIK ISLEMLER**\r\n",
        "\r\n",
        "*   ** -> ust alma\r\n",
        "*   // -> tam sayiya bolme\r\n",
        "*   and, or, not"
      ]
    },
    {
      "cell_type": "code",
      "metadata": {
        "colab": {
          "base_uri": "https://localhost:8080/"
        },
        "id": "DaYv5jQjWROM",
        "outputId": "c08d0842-bc75-45ca-f6e6-2d81cb28a0e5"
      },
      "source": [
        "2**3 "
      ],
      "execution_count": null,
      "outputs": [
        {
          "output_type": "execute_result",
          "data": {
            "text/plain": [
              "8"
            ]
          },
          "metadata": {
            "tags": []
          },
          "execution_count": 11
        }
      ]
    },
    {
      "cell_type": "code",
      "metadata": {
        "colab": {
          "base_uri": "https://localhost:8080/"
        },
        "id": "D0w3b4GIWUYr",
        "outputId": "5e360b82-fa89-4d80-fd1a-dbbdd98d13a0"
      },
      "source": [
        "4**0.5 # KOK ALMA ! 4^(1/2)"
      ],
      "execution_count": null,
      "outputs": [
        {
          "output_type": "execute_result",
          "data": {
            "text/plain": [
              "2.0"
            ]
          },
          "metadata": {
            "tags": []
          },
          "execution_count": 13
        }
      ]
    },
    {
      "cell_type": "code",
      "metadata": {
        "colab": {
          "base_uri": "https://localhost:8080/"
        },
        "id": "qUoxq1RZWdOj",
        "outputId": "901b1213-739b-4c6d-b34e-daf90f7a60ca"
      },
      "source": [
        "10/3"
      ],
      "execution_count": null,
      "outputs": [
        {
          "output_type": "execute_result",
          "data": {
            "text/plain": [
              "3.3333333333333335"
            ]
          },
          "metadata": {
            "tags": []
          },
          "execution_count": 15
        }
      ]
    },
    {
      "cell_type": "code",
      "metadata": {
        "colab": {
          "base_uri": "https://localhost:8080/"
        },
        "id": "SyfYnpDbWugc",
        "outputId": "0ad0f9a2-26d6-4a29-bb72-8cd4fb336c7a"
      },
      "source": [
        "10//3"
      ],
      "execution_count": null,
      "outputs": [
        {
          "output_type": "execute_result",
          "data": {
            "text/plain": [
              "3"
            ]
          },
          "metadata": {
            "tags": []
          },
          "execution_count": 16
        }
      ]
    },
    {
      "cell_type": "markdown",
      "metadata": {
        "id": "NQnfE2J5X_jc"
      },
      "source": [
        "\r\n",
        "\r\n",
        "---\r\n",
        "\r\n",
        "\r\n",
        "**IMPORT MATH**\r\n",
        "\r\n",
        "\r\n",
        "\r\n"
      ]
    },
    {
      "cell_type": "code",
      "metadata": {
        "id": "XhvpWuBWYBLs"
      },
      "source": [
        "!pip install kutuphane_adi # KUTUPHANE KURULUMU"
      ],
      "execution_count": null,
      "outputs": []
    },
    {
      "cell_type": "code",
      "metadata": {
        "colab": {
          "base_uri": "https://localhost:8080/"
        },
        "id": "JKrwdNCUYU6U",
        "outputId": "fe93f211-8ee6-46a1-8801-97eb7eb39b2d"
      },
      "source": [
        "import math\r\n",
        "dir( math ) # Kutuphane icerigini gormek icin kullanilir"
      ],
      "execution_count": null,
      "outputs": [
        {
          "output_type": "execute_result",
          "data": {
            "text/plain": [
              "['__doc__',\n",
              " '__loader__',\n",
              " '__name__',\n",
              " '__package__',\n",
              " '__spec__',\n",
              " 'acos',\n",
              " 'acosh',\n",
              " 'asin',\n",
              " 'asinh',\n",
              " 'atan',\n",
              " 'atan2',\n",
              " 'atanh',\n",
              " 'ceil',\n",
              " 'copysign',\n",
              " 'cos',\n",
              " 'cosh',\n",
              " 'degrees',\n",
              " 'e',\n",
              " 'erf',\n",
              " 'erfc',\n",
              " 'exp',\n",
              " 'expm1',\n",
              " 'fabs',\n",
              " 'factorial',\n",
              " 'floor',\n",
              " 'fmod',\n",
              " 'frexp',\n",
              " 'fsum',\n",
              " 'gamma',\n",
              " 'gcd',\n",
              " 'hypot',\n",
              " 'inf',\n",
              " 'isclose',\n",
              " 'isfinite',\n",
              " 'isinf',\n",
              " 'isnan',\n",
              " 'ldexp',\n",
              " 'lgamma',\n",
              " 'log',\n",
              " 'log10',\n",
              " 'log1p',\n",
              " 'log2',\n",
              " 'modf',\n",
              " 'nan',\n",
              " 'pi',\n",
              " 'pow',\n",
              " 'radians',\n",
              " 'sin',\n",
              " 'sinh',\n",
              " 'sqrt',\n",
              " 'tan',\n",
              " 'tanh',\n",
              " 'tau',\n",
              " 'trunc']"
            ]
          },
          "metadata": {
            "tags": []
          },
          "execution_count": 19
        }
      ]
    },
    {
      "cell_type": "code",
      "metadata": {
        "colab": {
          "base_uri": "https://localhost:8080/"
        },
        "id": "HkppLXPKYshz",
        "outputId": "ca657ed8-1e35-463d-f850-b8c264ee0f89"
      },
      "source": [
        "print( math.cos(0))"
      ],
      "execution_count": null,
      "outputs": [
        {
          "output_type": "stream",
          "text": [
            "1.0\n"
          ],
          "name": "stdout"
        }
      ]
    },
    {
      "cell_type": "code",
      "metadata": {
        "colab": {
          "base_uri": "https://localhost:8080/"
        },
        "id": "pvr-cIk5Y2yk",
        "outputId": "d8478e20-d6c8-48a6-fc67-8cf4dfdf86c4"
      },
      "source": [
        "help(math.cos) # FONKSIYON HAKKINDA BILGI ALMA"
      ],
      "execution_count": null,
      "outputs": [
        {
          "output_type": "stream",
          "text": [
            "Help on built-in function cos in module math:\n",
            "\n",
            "cos(...)\n",
            "    cos(x)\n",
            "    \n",
            "    Return the cosine of x (measured in radians).\n",
            "\n"
          ],
          "name": "stdout"
        }
      ]
    },
    {
      "cell_type": "code",
      "metadata": {
        "colab": {
          "base_uri": "https://localhost:8080/"
        },
        "id": "OlcLrCB0ZCUr",
        "outputId": "7720335d-78b6-413c-94a6-881de533da19"
      },
      "source": [
        "math.cos(90) # sonuc 1 degil cunku cos'a verilen deger derece degil radyan !"
      ],
      "execution_count": null,
      "outputs": [
        {
          "output_type": "execute_result",
          "data": {
            "text/plain": [
              "-0.4480736161291701"
            ]
          },
          "metadata": {
            "tags": []
          },
          "execution_count": 22
        }
      ]
    },
    {
      "cell_type": "code",
      "metadata": {
        "colab": {
          "base_uri": "https://localhost:8080/"
        },
        "id": "dcaWUQZGZV0U",
        "outputId": "58295588-406f-4192-b3da-e882b500c89d"
      },
      "source": [
        "abs(-10)"
      ],
      "execution_count": null,
      "outputs": [
        {
          "output_type": "execute_result",
          "data": {
            "text/plain": [
              "10"
            ]
          },
          "metadata": {
            "tags": []
          },
          "execution_count": 24
        }
      ]
    },
    {
      "cell_type": "markdown",
      "metadata": {
        "id": "8EuWb2f1cYn2"
      },
      "source": [
        "---\r\n",
        "**STRING ISLEMLERI**\r\n"
      ]
    },
    {
      "cell_type": "code",
      "metadata": {
        "colab": {
          "base_uri": "https://localhost:8080/"
        },
        "id": "MDT6swgRcdvk",
        "outputId": "3b90e8ca-3091-4adb-ded6-e3c007797cc3"
      },
      "source": [
        "name = 'heyman'\r\n",
        "print( name[0] )\r\n",
        "print( name[-1] )\r\n",
        "print( name[0:3] ) # 0'dan 3'e kadar \r\n",
        "print( name[0:-1] ) # 0'dan sondan 1'e kadar\r\n",
        "print( name[-3:] ) # sondan 3'ten isim sonuna kadar"
      ],
      "execution_count": null,
      "outputs": [
        {
          "output_type": "stream",
          "text": [
            "h\n",
            "n\n",
            "hey\n",
            "heyma\n",
            "man\n"
          ],
          "name": "stdout"
        }
      ]
    },
    {
      "cell_type": "code",
      "metadata": {
        "colab": {
          "base_uri": "https://localhost:8080/"
        },
        "id": "nAlTaKccd7Bu",
        "outputId": "421eb98b-7d3e-41bb-c45b-b926745e1c65"
      },
      "source": [
        "print('hey' in name) # string icerisinde substring arama !\r\n",
        "print('man' not in name )"
      ],
      "execution_count": null,
      "outputs": [
        {
          "output_type": "stream",
          "text": [
            "True\n",
            "False\n"
          ],
          "name": "stdout"
        }
      ]
    },
    {
      "cell_type": "code",
      "metadata": {
        "colab": {
          "base_uri": "https://localhost:8080/"
        },
        "id": "JCEhr7Nc2jy5",
        "outputId": "8244d1ce-8a29-4e38-a077-e9d1c237887e"
      },
      "source": [
        "# concatenation +\r\n",
        "print('hey' + 'man' )\r\n",
        "\r\n",
        "# repetition *\r\n",
        "print('hey'*2)\r\n",
        "\r\n",
        "# raw string r/R\r\n",
        "print(r'hey\\nman')\r\n",
        "\r\n",
        "# format %\r\n",
        "print('hey %s %d' % ( name, 5 ))"
      ],
      "execution_count": null,
      "outputs": [
        {
          "output_type": "stream",
          "text": [
            "heyman\n",
            "heyhey\n",
            "hey\\nman\n",
            "hey heyman 5\n"
          ],
          "name": "stdout"
        }
      ]
    },
    {
      "cell_type": "code",
      "metadata": {
        "colab": {
          "base_uri": "https://localhost:8080/"
        },
        "id": "8oy38OU-4r-J",
        "outputId": "de7b9ed9-f93b-4d92-eb58-486eaf5424a2"
      },
      "source": [
        "w1 = 'you'\r\n",
        "w2 = 'little thing'\r\n",
        "s1 = 'welcome {0} {1}'\r\n",
        "print(s1.format(w1, w2))"
      ],
      "execution_count": null,
      "outputs": [
        {
          "output_type": "stream",
          "text": [
            "welcome you little thing\n"
          ],
          "name": "stdout"
        }
      ]
    },
    {
      "cell_type": "markdown",
      "metadata": {
        "id": "VSYOX6aW5df5"
      },
      "source": [
        "---\r\n",
        "**ALISTIRMALAR**\r\n",
        "\r\n",
        "*   ?? isim ve yas bilgisi alip 'hello isim !*(yasi kadar)' yazdir\r\n",
        "\r\n"
      ]
    },
    {
      "cell_type": "code",
      "metadata": {
        "colab": {
          "base_uri": "https://localhost:8080/"
        },
        "id": "CBu1-gEA52ai",
        "outputId": "23c4e65c-9f3f-47a6-bed0-f9e38e3c4062"
      },
      "source": [
        "name = input('Name: ') # INPUT ALMA\r\n",
        "age = input('Age: ')\r\n",
        "\r\n",
        "print( 'Hello ' + name + ' !'*int(age) ) # age'i int'e cevirdik cunku alinan input string tipinde kabul ediliyor"
      ],
      "execution_count": null,
      "outputs": [
        {
          "output_type": "stream",
          "text": [
            "Name: tomato\n",
            "Age: 2\n",
            "Hello tomato!!\n"
          ],
          "name": "stdout"
        }
      ]
    },
    {
      "cell_type": "markdown",
      "metadata": {
        "id": "GlQaRmGC7PbZ"
      },
      "source": [
        "\r\n",
        "\r\n",
        "---\r\n",
        "\r\n",
        "\r\n",
        "**STRING FORMATS**"
      ]
    },
    {
      "cell_type": "code",
      "metadata": {
        "colab": {
          "base_uri": "https://localhost:8080/"
        },
        "id": "KOvX6HSW7WW5",
        "outputId": "e5d76eb6-ff4a-4756-d4e7-192b2694c8e2"
      },
      "source": [
        "str = 'this is a string example !'\r\n",
        "\r\n",
        "print(str.title())    # her kelimenin ilk harfini buyutur\r\n",
        "print(str.islower())  # tum harfler kucuk mu\r\n",
        "print(str.count('i')) # stringdeki 'i'leri say\r\n",
        "print(str.split(\" \")) # stringi split icerinde verilene gore kelimelere boler\r\n",
        "\r\n",
        "print(str.upper()) # stringin tum harflerini buyutur\r\n",
        "print(str.lower()) # stringin tum harflerini kucultur\r\n",
        "\r\n",
        "print(str.find('i'))       # stringdeki ilk 'i'yi bulur\r\n",
        "print(str.find('i', 3, 6)) # stringin 3'ten 6.indisine kadar olan kisimdaki ilk 'i'yi bulur\r\n",
        "\r\n",
        "print(str.strip())  # stringin basindaki ve sonundaki bosluklari siler\r\n",
        "print(str.lstrip()) # stringin solundaki bosluklari siler\r\n",
        "print(str.rstrip()) # stringin sagindaki bosluklari siler\r\n",
        "\r\n",
        "print(str.replace('t', 'x')) # case sensive !\r\n"
      ],
      "execution_count": null,
      "outputs": [
        {
          "output_type": "stream",
          "text": [
            "This Is A String Example !\n",
            "True\n",
            "3\n",
            "['this', 'is', 'a', 'string', 'example', '!']\n",
            "THIS IS A STRING EXAMPLE !\n",
            "this is a string example !\n",
            "2\n",
            "5\n",
            "this is a string example !\n",
            "this is a string example !\n",
            "this is a string example !\n",
            "xhis is a sxring example !\n"
          ],
          "name": "stdout"
        }
      ]
    },
    {
      "cell_type": "markdown",
      "metadata": {
        "id": "HDbmkDlg-X-X"
      },
      "source": [
        "\r\n",
        "\r\n",
        "---\r\n",
        "**MANTIK**\r\n"
      ]
    },
    {
      "cell_type": "code",
      "metadata": {
        "colab": {
          "base_uri": "https://localhost:8080/"
        },
        "id": "LbZyIQLG-cua",
        "outputId": "013ddc1b-c0dc-4c80-e28b-4dfb10548249"
      },
      "source": [
        "'1' == 1"
      ],
      "execution_count": null,
      "outputs": [
        {
          "output_type": "execute_result",
          "data": {
            "text/plain": [
              "False"
            ]
          },
          "metadata": {
            "tags": []
          },
          "execution_count": 55
        }
      ]
    },
    {
      "cell_type": "code",
      "metadata": {
        "colab": {
          "base_uri": "https://localhost:8080/"
        },
        "id": "tJHfoU02-lMb",
        "outputId": "9abfe4f3-f8ff-4bcd-d7fa-8b0f63f7ebc8"
      },
      "source": [
        "1.0 == 1"
      ],
      "execution_count": null,
      "outputs": [
        {
          "output_type": "execute_result",
          "data": {
            "text/plain": [
              "True"
            ]
          },
          "metadata": {
            "tags": []
          },
          "execution_count": 56
        }
      ]
    },
    {
      "cell_type": "code",
      "metadata": {
        "colab": {
          "base_uri": "https://localhost:8080/"
        },
        "id": "1RqWAK0c-qHw",
        "outputId": "57628165-4033-4b7e-f844-2a0377ba4cc3"
      },
      "source": [
        "True == 1"
      ],
      "execution_count": null,
      "outputs": [
        {
          "output_type": "execute_result",
          "data": {
            "text/plain": [
              "True"
            ]
          },
          "metadata": {
            "tags": []
          },
          "execution_count": 59
        }
      ]
    },
    {
      "cell_type": "markdown",
      "metadata": {
        "id": "8_cPjUpX-0_5"
      },
      "source": [
        "\r\n",
        "\r\n",
        "---\r\n",
        "\r\n",
        "\r\n",
        "# **VERI YAPILARI**\r\n",
        "\r\n",
        "\r\n",
        "*   List\r\n",
        "*   Tuple\r\n",
        "*   Dictionary\r\n",
        "*   Set\r\n",
        "\r\n",
        "\r\n",
        "\r\n"
      ]
    },
    {
      "cell_type": "markdown",
      "metadata": {
        "id": "dKAdpkvG_Cr3"
      },
      "source": [
        "# **LIST**"
      ]
    },
    {
      "cell_type": "code",
      "metadata": {
        "colab": {
          "base_uri": "https://localhost:8080/"
        },
        "id": "Q6ZsUYkp_G71",
        "outputId": "5ef59372-4cb5-48ed-9efe-2dd6b3216b20"
      },
      "source": [
        "list1 = [ 'a', 15, \"heyya\", True ]\r\n",
        "print(list1)\r\n",
        "\r\n",
        "list1[0:3] = [ 'b', 'c' ]\r\n",
        "print(list1)\r\n",
        "\r\n",
        "print(len(list1)) # listenin eleman sayisi\r\n",
        "\r\n",
        "print(list1[:-1])  # listenin basindan sondan 1.elemana kadar yazar\r\n",
        "print(list1[::-1]) # listenin elemanlarini sondan basa dogru yazar\r\n",
        "\r\n",
        "list2 = [ 2, 3, [4,5], 'heyya'] # ic ice diziler\r\n",
        "print(list2[2])"
      ],
      "execution_count": null,
      "outputs": [
        {
          "output_type": "stream",
          "text": [
            "['a', 15, 'heyya', True]\n",
            "['b', 'c', True]\n",
            "3\n",
            "['b', 'c']\n",
            "[True, 'c', 'b']\n",
            "[4, 5]\n"
          ],
          "name": "stdout"
        }
      ]
    },
    {
      "cell_type": "code",
      "metadata": {
        "colab": {
          "base_uri": "https://localhost:8080/",
          "height": 197
        },
        "id": "sSed_O8_CNia",
        "outputId": "1f7d172e-4b78-4ae5-a7bc-42bfae39cac1"
      },
      "source": [
        "# LIST MUTABLE !\r\n",
        "list1[2] = 'mutable'\r\n",
        "\r\n",
        "# STRING IMMUTABLE !\r\n",
        "str = 'immutable'\r\n",
        "str[2] = 'x'"
      ],
      "execution_count": null,
      "outputs": [
        {
          "output_type": "error",
          "ename": "TypeError",
          "evalue": "ignored",
          "traceback": [
            "\u001b[0;31m---------------------------------------------------------------------------\u001b[0m",
            "\u001b[0;31mTypeError\u001b[0m                                 Traceback (most recent call last)",
            "\u001b[0;32m<ipython-input-81-4e96c0bd665e>\u001b[0m in \u001b[0;36m<module>\u001b[0;34m()\u001b[0m\n\u001b[1;32m      4\u001b[0m \u001b[0;31m# STRING IMMUTABLE !\u001b[0m\u001b[0;34m\u001b[0m\u001b[0;34m\u001b[0m\u001b[0;34m\u001b[0m\u001b[0m\n\u001b[1;32m      5\u001b[0m \u001b[0mstr\u001b[0m \u001b[0;34m=\u001b[0m \u001b[0;34m'immutable'\u001b[0m\u001b[0;34m\u001b[0m\u001b[0;34m\u001b[0m\u001b[0m\n\u001b[0;32m----> 6\u001b[0;31m \u001b[0mstr\u001b[0m\u001b[0;34m[\u001b[0m\u001b[0;36m2\u001b[0m\u001b[0;34m]\u001b[0m \u001b[0;34m=\u001b[0m \u001b[0;34m'x'\u001b[0m\u001b[0;34m\u001b[0m\u001b[0;34m\u001b[0m\u001b[0m\n\u001b[0m",
            "\u001b[0;31mTypeError\u001b[0m: 'str' object does not support item assignment"
          ]
        }
      ]
    },
    {
      "cell_type": "code",
      "metadata": {
        "colab": {
          "base_uri": "https://localhost:8080/"
        },
        "id": "T3KJafwVC4MC",
        "outputId": "29d5d2a6-b625-43ed-927e-14362c659e1a"
      },
      "source": [
        "print(list1)\r\n",
        "list1.insert(2, 'inserted') # verilen indise elemani ekler ve indisten sonraki elemanlari bir saga kaydirir\r\n",
        "print(list1)\r\n",
        "list1.insert(2, 'insertedTwo')\r\n",
        "print(list1)"
      ],
      "execution_count": null,
      "outputs": [
        {
          "output_type": "stream",
          "text": [
            "['b', 'c', 'mutable']\n",
            "['b', 'c', 'inserted', 'mutable']\n",
            "['b', 'c', 'insertedTwo', 'inserted', 'mutable']\n"
          ],
          "name": "stdout"
        }
      ]
    },
    {
      "cell_type": "code",
      "metadata": {
        "colab": {
          "base_uri": "https://localhost:8080/"
        },
        "id": "QHMAXlc4DMHf",
        "outputId": "b9424fb4-1009-4bfb-d618-1a10f25fcee8"
      },
      "source": [
        "list1.extend([1,2,3]) # listeye toplu bir sekilde yeni elemanlar eklemek icin kullanilir\r\n",
        "print(list1)\r\n",
        "\r\n",
        "# extend islemini += ile de yapabiliriz\r\n",
        "list1 += [4,5]\r\n",
        "print(list1)"
      ],
      "execution_count": null,
      "outputs": [
        {
          "output_type": "stream",
          "text": [
            "['b', 'c', 'insertedTwo', 'inserted', 'mutable', 1, 2, 3, 1, 2, 3]\n",
            "['b', 'c', 'insertedTwo', 'inserted', 'mutable', 1, 2, 3, 1, 2, 3, 4, 5]\n"
          ],
          "name": "stdout"
        }
      ]
    },
    {
      "cell_type": "markdown",
      "metadata": {
        "id": "hO0n7ErYEjKY"
      },
      "source": [
        "**PYTHON LIST KOMUTLARI**\r\n",
        "\r\n",
        "\r\n",
        "*   append()  ; liste sonuna elemena ekler\r\n",
        "*   extend()  ; listeye baska bir liste ekler\r\n",
        "*   insert()  ; verilen indise eleman ekler\r\n",
        "*   pop()     ; son elemani siler\r\n",
        "*   clear()   ; tum elemnalari siler\r\n",
        "*   index()   ; elemanin hangi indexte oldugunu soyler\r\n",
        "*   reverse() ; listeyi terse cevirir\r\n",
        "*   copy()    ; listenin shallow copysini olusturur\r\n",
        "*   count()   ; verilen elemanin sayisini dondurur\r\n",
        "*   sort()    ; listeyi kucukten buyuge siralar, var olan diziyi degistirir\r\n",
        "\r\n",
        "**kullanim -> list_name.function()\r\n",
        "\r\n",
        "--\r\n",
        "\r\n",
        "*   all()  ; listedeki tum elemanlar trueysa ya da liste bossa true doner\r\n",
        "*   any()  ; listedeki herhangi bir eleman trueysa true doner. Liste bossa false doner.\r\n",
        "*   enumerate() ; listedeki tum elemanlarin indisini ve degerini birer tupleda tutan bir obje dondurur\r\n",
        "*   len()  ; listenin eleman sayisini dondurur\r\n",
        "*   list() ; tuple, string, set, dictionaryleri listeye donusturur\r\n",
        "*   max()  ; listenin en buyuk elemanini dondurur\r\n",
        "*   min()  ; listenin en kucuk elemanini dondurur\r\n",
        "*   sorted() ; listenin siralanmis halini dondurur, var olan diziyi bozmaz\r\n",
        "*   sum()  ; listedeki tum elemanlarin toplami\r\n",
        "\r\n",
        "**kullanim -> function(list_name)\r\n",
        "\r\n",
        "\r\n",
        "\r\n"
      ]
    },
    {
      "cell_type": "code",
      "metadata": {
        "colab": {
          "base_uri": "https://localhost:8080/"
        },
        "id": "Zt_8s3WkI-4A",
        "outputId": "90c0d91c-04f4-4f41-fe29-8636c71f2873"
      },
      "source": [
        "names = [ 'aa', 'bb', 'cc', 'dd' ]\r\n",
        "names.append('ee')\r\n",
        "print('Max value: ' + max(names) + '\\nMin value: ' + min(names))"
      ],
      "execution_count": null,
      "outputs": [
        {
          "output_type": "stream",
          "text": [
            "Max value: ee\n",
            "Min value: aa\n"
          ],
          "name": "stdout"
        }
      ]
    },
    {
      "cell_type": "markdown",
      "metadata": {
        "id": "ed2YcZoWKQER"
      },
      "source": [
        "# **TUPLE**\r\n",
        "\r\n",
        "Sabit diziler icin kullanilir\r\n",
        "\r\n",
        "\r\n",
        "\r\n"
      ]
    },
    {
      "cell_type": "code",
      "metadata": {
        "id": "vurRBFGDKssD"
      },
      "source": [
        "# LIST'ler tanimlanirken [] kullanilir\r\n",
        "# TUPLE tanimlarken () kullanilir\r\n",
        "# DICTIONARY'ler ve SET'ler tanimlanirken {} kullanilir\r\n",
        "\r\n",
        "# TUPLE'a eleman eklenemez ve silinemez\r\n",
        "# TUPLE'da eleman aranamaz\r\n",
        "\r\n",
        "# Donguler TUPLE'da LIST yapisindan daha hizli calisir\r\n",
        "# Degismeyecek veriler icin TUPLE yapisini kullan\r\n",
        "# TUPLE yapisi ve LIST yapisi arasinda rahatlikla donusum yapilabilmektedir"
      ],
      "execution_count": null,
      "outputs": []
    },
    {
      "cell_type": "code",
      "metadata": {
        "colab": {
          "base_uri": "https://localhost:8080/",
          "height": 197
        },
        "id": "PfdC_PUoMPtq",
        "outputId": "a32ccbc9-9a3e-4800-d7b3-baf3db84ed0d"
      },
      "source": [
        "list1 = [1,2,3]\r\n",
        "tuple1 = (1,2,3)\r\n",
        "\r\n",
        "list2 = list(tuple1) # TUPLE yapisi LIST'e cevrildi\r\n",
        "\r\n",
        "tuple1[0] = 5 # TUPLE'lar sabit dizilerdir, atama yapilamaz\r\n"
      ],
      "execution_count": null,
      "outputs": [
        {
          "output_type": "error",
          "ename": "TypeError",
          "evalue": "ignored",
          "traceback": [
            "\u001b[0;31m---------------------------------------------------------------------------\u001b[0m",
            "\u001b[0;31mTypeError\u001b[0m                                 Traceback (most recent call last)",
            "\u001b[0;32m<ipython-input-88-cfab613d8ee4>\u001b[0m in \u001b[0;36m<module>\u001b[0;34m()\u001b[0m\n\u001b[1;32m      4\u001b[0m \u001b[0mlist2\u001b[0m \u001b[0;34m=\u001b[0m \u001b[0mlist\u001b[0m\u001b[0;34m(\u001b[0m\u001b[0mtuple1\u001b[0m\u001b[0;34m)\u001b[0m \u001b[0;31m# TUPLE yapisi LIST'e cevrildi\u001b[0m\u001b[0;34m\u001b[0m\u001b[0;34m\u001b[0m\u001b[0m\n\u001b[1;32m      5\u001b[0m \u001b[0;34m\u001b[0m\u001b[0m\n\u001b[0;32m----> 6\u001b[0;31m \u001b[0mtuple1\u001b[0m\u001b[0;34m[\u001b[0m\u001b[0;36m0\u001b[0m\u001b[0;34m]\u001b[0m \u001b[0;34m=\u001b[0m \u001b[0;36m5\u001b[0m \u001b[0;31m# TUPLE'lar sabit dizilerdir, atama yapilamaz\u001b[0m\u001b[0;34m\u001b[0m\u001b[0;34m\u001b[0m\u001b[0m\n\u001b[0m",
            "\u001b[0;31mTypeError\u001b[0m: 'tuple' object does not support item assignment"
          ]
        }
      ]
    },
    {
      "cell_type": "markdown",
      "metadata": {
        "id": "VWJdX32CM8oR"
      },
      "source": [
        "# **DICTIONARIES**\r\n",
        "\r\n",
        "Esli verilerin oldugu bir veri yapisidir. { key : value }"
      ]
    },
    {
      "cell_type": "code",
      "metadata": {
        "colab": {
          "base_uri": "https://localhost:8080/",
          "height": 35
        },
        "id": "glOQLZovNFTJ",
        "outputId": "3148163d-7000-4780-8a7f-b9e510ea7c43"
      },
      "source": [
        "phone_directory = { \"AA\" : \"555\", \"BB\" : \"222\" }\r\n",
        "phone_directory[\"AA\"]"
      ],
      "execution_count": null,
      "outputs": [
        {
          "output_type": "execute_result",
          "data": {
            "application/vnd.google.colaboratory.intrinsic+json": {
              "type": "string"
            },
            "text/plain": [
              "'555'"
            ]
          },
          "metadata": {
            "tags": []
          },
          "execution_count": 91
        }
      ]
    },
    {
      "cell_type": "code",
      "metadata": {
        "colab": {
          "base_uri": "https://localhost:8080/"
        },
        "id": "7qo4xg4NN27H",
        "outputId": "a6512ca5-1a75-4c2a-d05b-02c4691c798a"
      },
      "source": [
        "# Farkli veri tipleri icerebilir\r\n",
        "\r\n",
        "dictionary = {'a' : 1 }\r\n",
        "dictionary = {4 : ('a','b','c') }\r\n",
        "dictionary = {\"aaa\" : [1,2,3] }\r\n",
        "\r\n",
        "dictionary[\"bbb\"] = \"ccc\" # add new element\r\n",
        "\r\n",
        "persons = { \"AA\" : {\"city\" : \"X\", \"job\" : \"Y\", \"age\" : 25 },\r\n",
        "            \"BB\" : {\"city\" : \"Z\", \"job\" : \"Q\", \"age\" : 45 } }\r\n",
        "print(persons)\r\n",
        "print(persons[\"BB\"][\"age\"])\r\n",
        "\r\n",
        "print(persons.keys())\r\n",
        "print(persons.values())"
      ],
      "execution_count": null,
      "outputs": [
        {
          "output_type": "stream",
          "text": [
            "{'AA': {'city': 'X', 'job': 'Y', 'age': 25}, 'BB': {'city': 'Z', 'job': 'Q', 'age': 45}}\n",
            "45\n",
            "dict_keys(['AA', 'BB'])\n",
            "dict_values([{'city': 'X', 'job': 'Y', 'age': 25}, {'city': 'Z', 'job': 'Q', 'age': 45}])\n"
          ],
          "name": "stdout"
        }
      ]
    },
    {
      "cell_type": "markdown",
      "metadata": {
        "id": "piPj8XSYRcxC"
      },
      "source": [
        "# **SET**\r\n",
        "\r\n",
        "*   List'ler gibi sirali degildirler\r\n",
        "*   Sirali erisim saglanamaz\r\n",
        "*   Her elemandan sadece bir tane vardir\r\n",
        "*   Indexle eleman erisimini desteklemez\r\n",
        "\r\n"
      ]
    },
    {
      "cell_type": "code",
      "metadata": {
        "colab": {
          "base_uri": "https://localhost:8080/",
          "height": 180
        },
        "id": "mppChb8bT00q",
        "outputId": "ba1ff31c-5d3b-4f54-d7e6-280eeaf8abba"
      },
      "source": [
        "set_example = {1, 2, 3}\r\n",
        "set_example[0]"
      ],
      "execution_count": null,
      "outputs": [
        {
          "output_type": "error",
          "ename": "TypeError",
          "evalue": "ignored",
          "traceback": [
            "\u001b[0;31m---------------------------------------------------------------------------\u001b[0m",
            "\u001b[0;31mTypeError\u001b[0m                                 Traceback (most recent call last)",
            "\u001b[0;32m<ipython-input-1-7494fc5d6527>\u001b[0m in \u001b[0;36m<module>\u001b[0;34m()\u001b[0m\n\u001b[1;32m      1\u001b[0m \u001b[0mset_example\u001b[0m \u001b[0;34m=\u001b[0m \u001b[0;34m{\u001b[0m\u001b[0;36m1\u001b[0m\u001b[0;34m,\u001b[0m \u001b[0;36m2\u001b[0m\u001b[0;34m,\u001b[0m \u001b[0;36m3\u001b[0m\u001b[0;34m}\u001b[0m\u001b[0;34m\u001b[0m\u001b[0;34m\u001b[0m\u001b[0m\n\u001b[0;32m----> 2\u001b[0;31m \u001b[0mset_example\u001b[0m\u001b[0;34m[\u001b[0m\u001b[0;36m0\u001b[0m\u001b[0;34m]\u001b[0m\u001b[0;34m\u001b[0m\u001b[0;34m\u001b[0m\u001b[0m\n\u001b[0m",
            "\u001b[0;31mTypeError\u001b[0m: 'set' object does not support indexing"
          ]
        }
      ]
    },
    {
      "cell_type": "code",
      "metadata": {
        "colab": {
          "base_uri": "https://localhost:8080/"
        },
        "id": "nyGeEaCrIISJ",
        "outputId": "4d411e5e-45c5-45e2-8033-a36f2d806868"
      },
      "source": [
        "set_example = {1, 2, 3, 3, 5, 8, 8, 8} # tekrar eden elemanlar birbirinin uzerine yazilir\r\n",
        "print(set_example)                     # listedeki tekrar eden elemanlar kurtulmak istersek listeyi sete cevirebiliriz"
      ],
      "execution_count": null,
      "outputs": [
        {
          "output_type": "stream",
          "text": [
            "{1, 2, 3, 5, 8}\n"
          ],
          "name": "stdout"
        }
      ]
    },
    {
      "cell_type": "code",
      "metadata": {
        "id": "eSasMcG5I7nh"
      },
      "source": [
        "empty_dic = {}    # empty dictionary\r\n",
        "empty_set = set() # empty set"
      ],
      "execution_count": null,
      "outputs": []
    },
    {
      "cell_type": "code",
      "metadata": {
        "colab": {
          "base_uri": "https://localhost:8080/"
        },
        "id": "GWlJoy3kJccX",
        "outputId": "252cb1d5-7034-48a8-ad15-996f3d896b9d"
      },
      "source": [
        "# KUME ISLEMLERI\r\n",
        "A = {1,2,3,4,5}\r\n",
        "B = {4,5,6,7,8}\r\n",
        "\r\n",
        "C = A & B # kesisim\r\n",
        "print( C )\r\n",
        "print(A.intersection(B))\r\n",
        "print(B.intersection(A))\r\n",
        "\r\n",
        "C = A - B # fark\r\n",
        "print( C )\r\n",
        "print(A.difference(B))\r\n",
        "print(B.difference(A))\r\n",
        "\r\n",
        "C = A ^ B # iki kumedeki ortak olmayan elemanlar\r\n",
        "print( C )\r\n",
        "print(A.symmetric_difference(B))\r\n",
        "print(B.symmetric_difference(A))\r\n"
      ],
      "execution_count": null,
      "outputs": [
        {
          "output_type": "stream",
          "text": [
            "{4, 5}\n",
            "{4, 5}\n",
            "{4, 5}\n",
            "{1, 2, 3}\n",
            "{1, 2, 3}\n",
            "{8, 6, 7}\n",
            "{1, 2, 3, 6, 7, 8}\n",
            "{1, 2, 3, 6, 7, 8}\n",
            "{1, 2, 3, 6, 7, 8}\n"
          ],
          "name": "stdout"
        }
      ]
    },
    {
      "cell_type": "code",
      "metadata": {
        "colab": {
          "base_uri": "https://localhost:8080/"
        },
        "id": "FlQ71xDwJ5nu",
        "outputId": "228d36e8-f208-4f12-d5ce-898a5a7399f0"
      },
      "source": [
        "listA = {1,1,1,1,1,5,5,5,5,8,8,8,9,9}\r\n",
        "unique_list = list( set(listA) )\r\n",
        "print(unique_list)"
      ],
      "execution_count": null,
      "outputs": [
        {
          "output_type": "stream",
          "text": [
            "[8, 1, 5, 9]\n"
          ],
          "name": "stdout"
        }
      ]
    },
    {
      "cell_type": "markdown",
      "metadata": {
        "id": "tnVA8q03LFbI"
      },
      "source": [
        "---\r\n",
        "# **KOSUL DEYIMLERI**\r\n",
        "\r\n",
        "\r\n",
        "*   if\r\n",
        "*   elif\r\n",
        "*   else\r\n",
        "\r\n",
        "INDENTION'a dikkat !\r\n"
      ]
    },
    {
      "cell_type": "code",
      "metadata": {
        "id": "uWXa1L6QLc1H"
      },
      "source": [
        "if 1==0 : # : 'le kosulu bitir\r\n",
        "  print('HOHO')\r\n",
        "else:\r\n",
        "  print('HOHOo')  "
      ],
      "execution_count": null,
      "outputs": []
    },
    {
      "cell_type": "code",
      "metadata": {
        "id": "7MK-rD-VMwbz"
      },
      "source": [
        "for name in names:\r\n",
        "  print(name.title())"
      ],
      "execution_count": null,
      "outputs": []
    },
    {
      "cell_type": "code",
      "metadata": {
        "colab": {
          "base_uri": "https://localhost:8080/"
        },
        "id": "6oPqTqDlNBkQ",
        "outputId": "828b6dc3-3a65-4585-ea4c-dc27650abcad"
      },
      "source": [
        "# RANGE()\r\n",
        "# bir built-in fonksiyonudur, pythonla beraber gelir\r\n",
        "# belli bir sirali deger uretmek icin kullanilir\r\n",
        "# range( baslangic, bitis, artis )\r\n",
        "print(range(5))\r\n",
        "print( list( range(0, 5) ))\r\n",
        "print( list( range(3, 10, 2) ))\r\n",
        "\r\n",
        "for i in range(5):\r\n",
        "  print(i)"
      ],
      "execution_count": null,
      "outputs": [
        {
          "output_type": "stream",
          "text": [
            "range(0, 5)\n",
            "[0, 1, 2, 3, 4]\n",
            "[3, 5, 7, 9]\n",
            "0\n",
            "1\n",
            "2\n",
            "3\n",
            "4\n"
          ],
          "name": "stdout"
        }
      ]
    },
    {
      "cell_type": "code",
      "metadata": {
        "colab": {
          "base_uri": "https://localhost:8080/"
        },
        "id": "8QQp3ZRYOMZ6",
        "outputId": "7f963d09-75a5-45fc-8a60-5a033a524e4d"
      },
      "source": [
        "animals = [ \"cat\", \"dog\", \"elephant\", \"monkey\" ]\r\n",
        "for animal in animals:\r\n",
        "  print(animal)\r\n",
        "\r\n",
        "for index in range(len(animals)):\r\n",
        "  print( animals[index] )"
      ],
      "execution_count": null,
      "outputs": [
        {
          "output_type": "stream",
          "text": [
            "cat\n",
            "dog\n",
            "elephant\n",
            "monkey\n",
            "cat\n",
            "dog\n",
            "elephant\n",
            "monkey\n"
          ],
          "name": "stdout"
        }
      ]
    },
    {
      "cell_type": "code",
      "metadata": {
        "colab": {
          "base_uri": "https://localhost:8080/"
        },
        "id": "qtyu-rVHPL2I",
        "outputId": "a2a1bec2-aadd-4188-d978-72aa3f3cabca"
      },
      "source": [
        "import random\r\n",
        "min = int(input(\"Minimum deger: \"))\r\n",
        "max = int(input(\"Maximum deger: \"))\r\n",
        "\r\n",
        "random_value = random.randint(min, max)\r\n",
        "step = 0\r\n",
        "while( step < 10 ):\r\n",
        "  estimated_value = int(input(\"Guess : \"))\r\n",
        "  if( estimated_value == random_value ):\r\n",
        "    print(\"Ooley\")\r\n",
        "    break\r\n",
        "  elif(  estimated_value < random_value ):\r\n",
        "    print(\"Your guess is smaller than random value\")\r\n",
        "  else:\r\n",
        "    print(\"Your guess is bigger than random value\")\r\n",
        "  step+=1;\r\n",
        "print(\"number of guesses is over\")"
      ],
      "execution_count": null,
      "outputs": [
        {
          "output_type": "stream",
          "text": [
            "Minimum deger: 0\n",
            "Maximum deger: 10\n",
            "Guess : 5\n",
            "Your guess is bigger than random value\n",
            "Guess : 4\n",
            "Ooley\n"
          ],
          "name": "stdout"
        }
      ]
    },
    {
      "cell_type": "markdown",
      "metadata": {
        "id": "CbrJmUz3R-Aw"
      },
      "source": [
        "---\r\n",
        "# **ERRORS and EXCEPTIONS**\r\n",
        "\r\n",
        "Hata turleri:\r\n",
        "*   Programci Hatalari (ERROR)\r\n",
        "*   Program Kusurlari (BUG)\r\n",
        "*   Istisnalar (EXCEPTONS)"
      ]
    },
    {
      "cell_type": "code",
      "metadata": {
        "colab": {
          "base_uri": "https://localhost:8080/"
        },
        "id": "xikt5CrASbBB",
        "outputId": "f2c820da-7a0a-48bf-b1df-42c061608992"
      },
      "source": [
        "try:\r\n",
        "  # hata verebilecegini bildigimiz kodlar try icerisine yazilir\r\n",
        "  # try icerisindeki islemleri yap\r\n",
        "  print(10/0)\r\n",
        "except ZeroDivisionError: # almayi bekledigimiz hata adi \r\n",
        "  # eger try icerindeki islemleri yaparken bir hatayla karsilasirsan except icerisini calistir\r\n",
        "  # hata durumunda yapilacak islem\r\n",
        "  print(\"Sayi sifira bolunemez\")"
      ],
      "execution_count": null,
      "outputs": [
        {
          "output_type": "stream",
          "text": [
            "Sayi harfe bolunemez\n"
          ],
          "name": "stdout"
        }
      ]
    },
    {
      "cell_type": "code",
      "metadata": {
        "colab": {
          "base_uri": "https://localhost:8080/"
        },
        "id": "mD-kuVduT-DR",
        "outputId": "861ff8e6-9a01-4d07-b8cd-5e90ae5bd5de"
      },
      "source": [
        "a = 10\r\n",
        "b = 'a'\r\n",
        "try:\r\n",
        "  a/b\r\n",
        "except (TypeError, ValueError) as error: # karsilasilan hatayi gormek icin !!\r\n",
        "  print(\"Karsilasilan hata: \", error)\r\n",
        "except: #herhangi bir hata adi yazmadan direkt except de yazilabilir\r\n",
        "  print(\"Beklenmeyen bir hata\")"
      ],
      "execution_count": null,
      "outputs": [
        {
          "output_type": "stream",
          "text": [
            "Karsilasilan hata:  unsupported operand type(s) for /: 'int' and 'str'\n"
          ],
          "name": "stdout"
        }
      ]
    },
    {
      "cell_type": "code",
      "metadata": {
        "colab": {
          "base_uri": "https://localhost:8080/"
        },
        "id": "pFduBCcjU2nC",
        "outputId": "77bccc77-e6f2-477d-9c6a-1cff41a75f58"
      },
      "source": [
        "a = input('Bir sayi giriniz: ')\r\n",
        "try:\r\n",
        "  b = int(a);\r\n",
        "  print(\"dogru girdiniz\")\r\n",
        "except Exception as e:\r\n",
        "  print(\"Hatayla karsilasildi : \", e)"
      ],
      "execution_count": null,
      "outputs": [
        {
          "output_type": "stream",
          "text": [
            "Bir sayi giriniz: '\n",
            "Hatayla karsilasildi :  invalid literal for int() with base 10: \"'\"\n"
          ],
          "name": "stdout"
        }
      ]
    },
    {
      "cell_type": "markdown",
      "metadata": {
        "id": "YS0n4RyOVRRw"
      },
      "source": [
        "\r\n",
        "\r\n",
        "---\r\n",
        "# **FONSIYONLAR**\r\n",
        "\r\n",
        "\r\n",
        "\r\n"
      ]
    },
    {
      "cell_type": "code",
      "metadata": {
        "id": "q9rU0z-zVaZg"
      },
      "source": [
        "def function_name(parameters):\r\n",
        "  return return_value\r\n",
        "\r\n",
        "function_name(param)"
      ],
      "execution_count": null,
      "outputs": []
    },
    {
      "cell_type": "code",
      "metadata": {
        "colab": {
          "base_uri": "https://localhost:8080/"
        },
        "id": "edZe9SEiVuBw",
        "outputId": "e37e07e1-80ae-4198-fb48-d84d64990378"
      },
      "source": [
        "def func(param = \"default_value\"):\r\n",
        "  print( param )\r\n",
        "\r\n",
        "func()\r\n",
        "func(\"Heyo\")"
      ],
      "execution_count": null,
      "outputs": [
        {
          "output_type": "stream",
          "text": [
            "default_value\n",
            "Heyo\n"
          ],
          "name": "stdout"
        }
      ]
    },
    {
      "cell_type": "code",
      "metadata": {
        "colab": {
          "base_uri": "https://localhost:8080/"
        },
        "id": "2tWvlFzSWzTI",
        "outputId": "e2a67ef8-3b61-4ac8-f372-122fc5adae1a"
      },
      "source": [
        "def area_of_rectangular( edge1, edge2):\r\n",
        "  return edge1*edge2\r\n",
        "\r\n",
        "def perimeter_of_rectangular( edge1, edge2):\r\n",
        "  return 2*(edge1 + edge2)\r\n",
        "\r\n",
        "def distance(edge1, edge2):\r\n",
        "  return (edge1**2 + edge2**2)**0.5\r\n",
        "\r\n",
        "def information(edge1, edge2):\r\n",
        "  print(\"\\nArea     : \", area_of_rectangular(edge1, edge2))\r\n",
        "  print(\"\\nPerimeter: \", perimeter_of_rectangular(edge1, edge2))\r\n",
        "  print(\"\\nDistance : \", distance(edge1, edge2))\r\n",
        "\r\n",
        "edge1 = int(input(\"edge1 : \"))\r\n",
        "edge2 = int(input(\"edge2 : \"))\r\n",
        "information(edge1, edge2)"
      ],
      "execution_count": null,
      "outputs": [
        {
          "output_type": "stream",
          "text": [
            "edge1 : 3\n",
            "edge2 : 4\n",
            "\n",
            "Area     :  12\n",
            "\n",
            "Perimeter:  14\n",
            "\n",
            "Distance :  5.0\n"
          ],
          "name": "stdout"
        }
      ]
    },
    {
      "cell_type": "markdown",
      "metadata": {
        "id": "KPRFF1sMZ1aS"
      },
      "source": [
        "\r\n",
        "\r\n",
        "---\r\n",
        "# **GLOBAL ve LOCAL Degiskenler**\r\n",
        "\r\n",
        "* Global degiskenler fonksiyon disinda tanimlanan \r\n",
        "degiskenlerdir.\r\n",
        "* Local degiskenler ise fonksiyon icerisinde tanimlanirlar"
      ]
    },
    {
      "cell_type": "code",
      "metadata": {
        "colab": {
          "base_uri": "https://localhost:8080/"
        },
        "id": "rYL7fY-yaJ3Z",
        "outputId": "f32d2438-d1b2-41ad-c05f-6b4c2635084c"
      },
      "source": [
        "total = 10 # global variable\r\n",
        "\r\n",
        "def sum(v1, v2):\r\n",
        "  total = v1 + v2\r\n",
        "  return total\r\n",
        "\r\n",
        "print(\"Returned total : \", sum( 10, 10))\r\n",
        "print(\"Global total   : \", total)\r\n",
        "\r\n",
        "# !! EGER FONKSIYON ICERISINDE GLOBAL DEGISKENE MUDEHALE ETMEK ISTERSEK \r\n",
        "# !! DEGISKENIN GLOBAL OLDUGUNU FONKSIYONA DA SOYLEMELIYIZ\r\n",
        "def glob():\r\n",
        "  global total;\r\n",
        "  total+=5;\r\n",
        "\r\n",
        "glob()\r\n",
        "print(\"\\nTotal : \", total)\r\n"
      ],
      "execution_count": null,
      "outputs": [
        {
          "output_type": "stream",
          "text": [
            "Returned total :  20\n",
            "Global total   :  10\n",
            "\n",
            "Total :  15\n"
          ],
          "name": "stdout"
        }
      ]
    },
    {
      "cell_type": "code",
      "metadata": {
        "colab": {
          "base_uri": "https://localhost:8080/"
        },
        "id": "uhhiC8KaclUH",
        "outputId": "55fbda68-2fe6-4743-c67a-7ef4ca7fc67c"
      },
      "source": [
        "import random\r\n",
        "def find_loto():\r\n",
        "  loto = []\r\n",
        "  for i in range(6):\r\n",
        "    loto.append( random.randint(1, 49) )\r\n",
        "  return loto\r\n",
        "\r\n",
        "print( find_loto() )"
      ],
      "execution_count": null,
      "outputs": [
        {
          "output_type": "stream",
          "text": [
            "[49, 14, 18, 49, 41, 49]\n"
          ],
          "name": "stdout"
        }
      ]
    },
    {
      "cell_type": "code",
      "metadata": {
        "colab": {
          "base_uri": "https://localhost:8080/"
        },
        "id": "IT9s742gdvw4",
        "outputId": "f8d77279-b74b-4ee9-8cab-299c968b0a3a"
      },
      "source": [
        "def factorial(number):\r\n",
        "  if number < 0:\r\n",
        "    print(\"Number has to be positive\")\r\n",
        "    return -1\r\n",
        "  elif number <=1:\r\n",
        "    return 1\r\n",
        "  else:\r\n",
        "    return number*factorial(number-1)\r\n",
        "  \r\n",
        "print(factorial(5))"
      ],
      "execution_count": null,
      "outputs": [
        {
          "output_type": "stream",
          "text": [
            "120\n"
          ],
          "name": "stdout"
        }
      ]
    },
    {
      "cell_type": "markdown",
      "metadata": {
        "id": "UVOrZmPCfgTi"
      },
      "source": [
        "---\r\n",
        "# **PROJE**"
      ]
    },
    {
      "cell_type": "markdown",
      "metadata": {
        "id": "ouCxv8qGfyqI"
      },
      "source": [
        "**Sayfa Baglantisi Saglama ve Source Kod Okuma**"
      ]
    },
    {
      "cell_type": "code",
      "metadata": {
        "id": "sMF1vnFkf-sC"
      },
      "source": [
        "import requests\r\n",
        "page_source = requests.get('https://covid19.saglik.gov.tr/TR-66935/genel-koronavirus-tablosu.html')\r\n",
        "#print(page_source.text) # gelen sayfa sourceuna bak ve isine yarayacak bilginin nerede oldugunu bul\r\n",
        "                         # 'var geneldurumjson = '\r\n",
        "                         # sayfayi isine yaracak yerden itibaren bol\r\n",
        "usefull_part = page_source.text.split(\"var geneldurumjson = \")[1] # sayfayi ikiye bolduk, 0 ve 1\r\n",
        "                                                                  # 0; 'var geneldurumjson = ' oncesi, 1 ise sonrasi\r\n",
        "usefull_part = usefull_part.split(\";\")[0] # sondaki ise yaramayan kismi da bol\r\n",
        "\r\n",
        "# 6,7 ve 8 satirlari birlestirebiliriz\r\n",
        "# usefull_part = page_source.text.split(\"var geneldurumjson = \")[1].split(\";\")[0]\r\n",
        "\r\n",
        "data_list = eval(usefull_part)\r\n",
        "print(data_list) # listedeki veriler dictionary formatinda\r\n",
        "\r\n",
        "# veriden alinacak kisimlar icin listeler olustur\r\n",
        "date = []\r\n",
        "daily_test = []\r\n",
        "daily_death = []\r\n",
        "\r\n",
        "for data in data_list:\r\n",
        "  date.append(data['tarih'])\r\n",
        "  daily_test.append(data['gunluk_test'])\r\n",
        "  daily_death.append(data['gunluk_vefat']) \r\n",
        "\r\n",
        "#print(daily_test)\r\n",
        "# alinan veriler string fakat biz integer olmalarini istiyoruz\r\n",
        "# bu yuzden empty stringler yerine 0 yaz ve gunluk test verilerindeki noktalari sil\r\n",
        "for i in range(len(daily_test)):\r\n",
        "  if daily_test[i] == \"\":\r\n",
        "    daily_test[i] = '0'\r\n",
        "  else:\r\n",
        "    daily_test[i] = daily_test[i].replace('.', '')\r\n",
        "  # gunluk test verilerini integera cevir\r\n",
        "  daily_test[i] = int(daily_test[i])\r\n",
        "\r\n",
        "# gunluk vefat verisini de integera cevir\r\n",
        "for i in range(len(daily_test)):\r\n",
        "  if daily_death[i] == \"\":\r\n",
        "    daily_death[i] = '0'\r\n",
        "  else:\r\n",
        "    daily_death[i] = daily_death[i].replace('.', '')\r\n",
        "  daily_death[i] = int(daily_death[i])"
      ],
      "execution_count": null,
      "outputs": []
    },
    {
      "cell_type": "markdown",
      "metadata": {
        "id": "H8KwiAl4n6Jx"
      },
      "source": [
        "**Grafik Olusturma**"
      ]
    },
    {
      "cell_type": "code",
      "metadata": {
        "id": "GSmayewln-Mo"
      },
      "source": [
        "date.reverse() # alinan verilerde tarih simdiden gecmise dogru, grafikte tarihin eskiden yeniye gitmesi icin listenin reverseunu aliyoruz\r\n",
        "daily_test.reverse() # tarihle uyumlu diger iki datayi karistirmamak icin diger iki listenin de reverseunu al\r\n",
        "daily_death.reverse()\r\n",
        "\r\n",
        "X = date\r\n",
        "Y1 = daily_test\r\n",
        "Y2 = daily_death\r\n",
        "XLABEL = 'TARIH'\r\n",
        "Y1LABEL = 'GUNLUK TEST'\r\n",
        "Y2LABEL = 'GUNLUK VEFAT'\r\n",
        "\r\n",
        "%matplotlib inline\r\n",
        "import matplotlib.pyplot as plt\r\n",
        "import matplotlib.ticker as ticker\r\n",
        "\r\n",
        "fig, ax = plt.subplots(1, 1, figsize = (20, 10))\r\n",
        "plt.style.use('seaborn-bright')\r\n",
        "loc = ticker.MultipleLocator(base = 30.0)\r\n",
        "ax.xaxis.set_major_locator(loc)\r\n",
        "ax.set_ylabel(Y1LABEL, fontsize=18, color=\"blue\")\r\n",
        "ax.set_xlabel(XLABEL, fontsize=18, color=\"green\")\r\n",
        "ax.scatter(X, Y1, color=\"blue\")\r\n",
        "ax1 = ax.twinx()\r\n",
        "ax1.xaxis.set_major_locator(loc)\r\n",
        "ax1.set_ylabel(Y2LABEL, fontsize=18, color=\"red\")\r\n",
        "ax1.scatter(X,Y2, color=\"red\")"
      ],
      "execution_count": null,
      "outputs": []
    }
  ]
}